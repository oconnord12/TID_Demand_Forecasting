{
 "cells": [
  {
   "cell_type": "code",
   "execution_count": 21,
   "id": "74370b8c",
   "metadata": {},
   "outputs": [],
   "source": [
    "import pandas as pd\n",
    "import numpy as np\n",
    "import torch\n",
    "import matplotlib.pyplot as plt"
   ]
  },
  {
   "cell_type": "code",
   "execution_count": null,
   "id": "8ea3e174",
   "metadata": {},
   "outputs": [],
   "source": []
  },
  {
   "cell_type": "code",
   "execution_count": 3,
   "id": "dfcc56ec",
   "metadata": {},
   "outputs": [
    {
     "data": {
      "text/html": [
       "<div>\n",
       "<style scoped>\n",
       "    .dataframe tbody tr th:only-of-type {\n",
       "        vertical-align: middle;\n",
       "    }\n",
       "\n",
       "    .dataframe tbody tr th {\n",
       "        vertical-align: top;\n",
       "    }\n",
       "\n",
       "    .dataframe thead th {\n",
       "        text-align: right;\n",
       "    }\n",
       "</style>\n",
       "<table border=\"1\" class=\"dataframe\">\n",
       "  <thead>\n",
       "    <tr style=\"text-align: right;\">\n",
       "      <th></th>\n",
       "      <th>Temp</th>\n",
       "      <th>Load</th>\n",
       "    </tr>\n",
       "  </thead>\n",
       "  <tbody>\n",
       "    <tr>\n",
       "      <th>0</th>\n",
       "      <td>0.547776</td>\n",
       "      <td>0.886892</td>\n",
       "    </tr>\n",
       "    <tr>\n",
       "      <th>1</th>\n",
       "      <td>0.695853</td>\n",
       "      <td>0.164058</td>\n",
       "    </tr>\n",
       "    <tr>\n",
       "      <th>2</th>\n",
       "      <td>0.383835</td>\n",
       "      <td>0.267596</td>\n",
       "    </tr>\n",
       "    <tr>\n",
       "      <th>3</th>\n",
       "      <td>0.077193</td>\n",
       "      <td>0.773319</td>\n",
       "    </tr>\n",
       "    <tr>\n",
       "      <th>4</th>\n",
       "      <td>0.197426</td>\n",
       "      <td>0.494024</td>\n",
       "    </tr>\n",
       "    <tr>\n",
       "      <th>...</th>\n",
       "      <td>...</td>\n",
       "      <td>...</td>\n",
       "    </tr>\n",
       "    <tr>\n",
       "      <th>9995</th>\n",
       "      <td>0.343432</td>\n",
       "      <td>0.054792</td>\n",
       "    </tr>\n",
       "    <tr>\n",
       "      <th>9996</th>\n",
       "      <td>0.434470</td>\n",
       "      <td>0.363905</td>\n",
       "    </tr>\n",
       "    <tr>\n",
       "      <th>9997</th>\n",
       "      <td>0.337740</td>\n",
       "      <td>0.060005</td>\n",
       "    </tr>\n",
       "    <tr>\n",
       "      <th>9998</th>\n",
       "      <td>0.028105</td>\n",
       "      <td>0.354644</td>\n",
       "    </tr>\n",
       "    <tr>\n",
       "      <th>9999</th>\n",
       "      <td>0.557684</td>\n",
       "      <td>0.738045</td>\n",
       "    </tr>\n",
       "  </tbody>\n",
       "</table>\n",
       "<p>10000 rows × 2 columns</p>\n",
       "</div>"
      ],
      "text/plain": [
       "          Temp      Load\n",
       "0     0.547776  0.886892\n",
       "1     0.695853  0.164058\n",
       "2     0.383835  0.267596\n",
       "3     0.077193  0.773319\n",
       "4     0.197426  0.494024\n",
       "...        ...       ...\n",
       "9995  0.343432  0.054792\n",
       "9996  0.434470  0.363905\n",
       "9997  0.337740  0.060005\n",
       "9998  0.028105  0.354644\n",
       "9999  0.557684  0.738045\n",
       "\n",
       "[10000 rows x 2 columns]"
      ]
     },
     "execution_count": 3,
     "metadata": {},
     "output_type": "execute_result"
    }
   ],
   "source": [
    "data1 = np.random.rand(10000)\n",
    "data2 = np.random.rand(10000)\n",
    "\n",
    "#example dataframe with same structure, index can be viewed as time here\n",
    "df = pd.DataFrame({'Temp': data1, 'Load': data2})\n",
    "df"
   ]
  },
  {
   "cell_type": "code",
   "execution_count": 19,
   "id": "fa1bb54f",
   "metadata": {},
   "outputs": [
    {
     "data": {
      "text/plain": [
       "((10000, 2), (2000, 2))"
      ]
     },
     "execution_count": 19,
     "metadata": {},
     "output_type": "execute_result"
    }
   ],
   "source": [
    "#ok lets say I have 10,000 data points. I want to split training testing into ~80/20\n",
    "train_df = df * 0.8\n",
    "test_df = df[-int(len(df)*0.2):]\n",
    "train_df.shape, test_df.shape"
   ]
  },
  {
   "cell_type": "code",
   "execution_count": 41,
   "id": "5f56b61d",
   "metadata": {},
   "outputs": [],
   "source": [
    "def prepare_data_nn(df, look_back, model='nn',  pred_type='N/A', train=0.80, val=0.10, test=0.10):\n",
    "    df_as_np = df.to_numpy()\n",
    "    X = []\n",
    "    y = []\n",
    "    for i in range(len(df_as_np) - look_back):\n",
    "        row = [r for r in df_as_np[i:i+look_back]]\n",
    "        X.append(row)\n",
    "        y_values = df_as_np[i+look_back][0]\n",
    "        y.append(y_values)\n",
    "               \n",
    "    X = np.array(X)\n",
    "    y = np.array(y)\n",
    "    \n",
    "    length = len(X)\n",
    "    \n",
    "    \n",
    "    x_train , y_train = X[:int((train*length))], y[:int((train*length))]\n",
    "    x_val, y_val = X[int((train*length)):int((train+val)*length)], y[int((train*length)):int((train+val)*length)]\n",
    "    x_test, y_test = X[-int(test*length):], y[-int(test*length):]\n",
    "    \n",
    "    \n",
    "    \n",
    "    return x_train, y_train, x_val, y_val, x_test, y_test\n",
    "    "
   ]
  },
  {
   "cell_type": "code",
   "execution_count": 1,
   "id": "e4277e40",
   "metadata": {},
   "outputs": [],
   "source": [
    "def check_missing_hourly_intervals(df):\n",
    "    # Convert index to datetime if not already\n",
    "    df.index = pd.to_datetime(df.index, utc=True)\n",
    "\n",
    "    # Create a complete hourly time index\n",
    "    full_time_index = pd.date_range(start=df.index.min(), end=df.index.max(), freq='H', tz='UTC')\n",
    "    df_reindexed = df.reindex(full_time_index)\n",
    "\n",
    "    # Identify missing timestamps\n",
    "    missing_timestamps = df_reindexed[df_reindexed.isna().any(axis=1)]\n",
    "\n",
    "    # Count missing data per day\n",
    "    daily_missing = missing_timestamps.resample('D').size()\n",
    "\n",
    "    return daily_missing.sort_values(ascending=False)"
   ]
  },
  {
   "cell_type": "code",
   "execution_count": 42,
   "id": "420557e8",
   "metadata": {},
   "outputs": [
    {
     "data": {
      "text/plain": [
       "((9976, 24, 2), (9976,))"
      ]
     },
     "execution_count": 42,
     "metadata": {},
     "output_type": "execute_result"
    }
   ],
   "source": [
    "x1,y1 = prepare_data_nn(df,look_back=24)\n",
    "x1.shape, y1.shape"
   ]
  },
  {
   "cell_type": "code",
   "execution_count": 51,
   "id": "49c87268",
   "metadata": {},
   "outputs": [
    {
     "data": {
      "text/plain": [
       "(997, 24, 2)"
      ]
     },
     "execution_count": 51,
     "metadata": {},
     "output_type": "execute_result"
    }
   ],
   "source": [
    "x1[-int(.1*len(x1)):].shape"
   ]
  },
  {
   "cell_type": "code",
   "execution_count": null,
   "id": "1bf1644c",
   "metadata": {},
   "outputs": [],
   "source": []
  },
  {
   "cell_type": "code",
   "execution_count": 48,
   "id": "53894645",
   "metadata": {},
   "outputs": [
    {
     "data": {
      "text/plain": [
       "7980.8"
      ]
     },
     "execution_count": 48,
     "metadata": {},
     "output_type": "execute_result"
    }
   ],
   "source": [
    ".8 * 9976"
   ]
  },
  {
   "cell_type": "code",
   "execution_count": 34,
   "id": "ea3fa343",
   "metadata": {},
   "outputs": [
    {
     "data": {
      "text/plain": [
       "array([0.54777552, 0.88689184])"
      ]
     },
     "execution_count": 34,
     "metadata": {},
     "output_type": "execute_result"
    }
   ],
   "source": [
    "df_as_np = df.to_numpy()\n",
    "df_as_np[0][:]"
   ]
  },
  {
   "cell_type": "code",
   "execution_count": null,
   "id": "f42f3481",
   "metadata": {},
   "outputs": [],
   "source": [
    "def rolling_forecast(df: pd.DataFrame, train_len: int, horizon: int, window: int, method: str):\n",
    "    total_len = train_len + horizon\n",
    "    end_idx = train_len\n",
    "    \n",
    "    if method == 'mean':\n",
    "        pred_mean = []\n",
    "        \n",
    "        for i in range(train_len, total_len, window):\n",
    "            mean = np.mean(df[:i].values)\n",
    "            pred_mean.extend(mean for _ in range(window))\n",
    "        \n",
    "        return pred_mean\n",
    "    \n",
    "    if method == 'last':\n",
    "        pred_last = []\n",
    "        \n",
    "        for i in range(train_len, total_len, window):\n",
    "            last = df[:i].iloc[-1].values[0]\n",
    "            pred_last.extend(last for _ in range(window))\n",
    "            \n",
    "        return pred_last\n",
    "    \n",
    "    if method == 'ARMA':\n",
    "        pred_ARMA = []\n",
    "        \n",
    "        for i in range(train_len, total_len, window):\n",
    "            model = SARIMAX(df[:i], order = (2,0,2))\n",
    "            res = model.fit(disp=False)\n",
    "            predictions = res.get_prediction(0, i + window -1)\n",
    "            oos_pred = predictions.predicted_mean.iloc[-window:]\n",
    "            pred_ARMA.extend(oos_pred)\n",
    "            \n",
    "        return pred_ARMA"
   ]
  },
  {
   "cell_type": "code",
   "execution_count": null,
   "id": "3d8e68bc",
   "metadata": {},
   "outputs": [],
   "source": [
    "# train on 2 years and maintain a rolling forecast for another year"
   ]
  },
  {
   "cell_type": "code",
   "execution_count": null,
   "id": "5c5cc137",
   "metadata": {},
   "outputs": [],
   "source": []
  },
  {
   "cell_type": "code",
   "execution_count": null,
   "id": "8e5076cb",
   "metadata": {},
   "outputs": [],
   "source": []
  },
  {
   "cell_type": "code",
   "execution_count": null,
   "id": "642bd2b5",
   "metadata": {},
   "outputs": [],
   "source": [
    "def "
   ]
  }
 ],
 "metadata": {
  "kernelspec": {
   "display_name": "Python 3 (ipykernel)",
   "language": "python",
   "name": "python3"
  },
  "language_info": {
   "codemirror_mode": {
    "name": "ipython",
    "version": 3
   },
   "file_extension": ".py",
   "mimetype": "text/x-python",
   "name": "python",
   "nbconvert_exporter": "python",
   "pygments_lexer": "ipython3",
   "version": "3.10.9"
  }
 },
 "nbformat": 4,
 "nbformat_minor": 5
}
