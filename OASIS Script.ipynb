{
 "cells": [
  {
   "cell_type": "code",
   "execution_count": 1,
   "id": "2fd193f4",
   "metadata": {},
   "outputs": [],
   "source": [
    "import pandas as pd\n",
    "import requests\n",
    "from dateutil.relativedelta import relativedelta\n",
    "from datetime import datetime"
   ]
  },
  {
   "cell_type": "code",
   "execution_count": 2,
   "id": "33eb771f",
   "metadata": {},
   "outputs": [
    {
     "name": "stdout",
     "output_type": "stream",
     "text": [
      "http://oasis.caiso.com/mrtu-oasis/SingleZip?queryname=SLD_FCST&startdate=20230101&enddate=20230131&market_run_id=DAM&resultformat=6\n"
     ]
    }
   ],
   "source": [
    "def generate_oasis_url(query_name, start_date, end_date, market_run_id, result_format=5, **var_parameters):\n",
    "    base_url = \"http://oasis.caiso.com/mrtu-oasis/SingleZip\"\n",
    "    \n",
    "    # Start building the query parameters\n",
    "    params = {\n",
    "        'queryname': query_name,\n",
    "        'startdate': start_date,\n",
    "        'enddate': end_date,\n",
    "        'market_run_id': market_run_id,\n",
    "        'resultformat': result_format\n",
    "    }\n",
    "    \n",
    "    # Add any other variable parameters passed to the function\n",
    "    params.update(var_parameters)\n",
    "    \n",
    "    # Convert the parameters to a URL query string format\n",
    "    query_string = \"&\".join([f\"{k}={v}\" for k, v in params.items()])\n",
    "    \n",
    "    # Return the complete URL\n",
    "    return f\"{base_url}?{query_string}\"\n",
    "\n",
    "# Example usage:\n",
    "url = generate_oasis_url(query_name=\"SLD_FCST\", start_date=\"20230101\", end_date=\"20230131\", market_run_id=\"DAM\", result_format=6)\n",
    "print(url)\n"
   ]
  },
  {
   "cell_type": "code",
   "execution_count": 12,
   "id": "59eb36bc",
   "metadata": {},
   "outputs": [],
   "source": [
    "\n",
    "\n",
    "def fetch_data_from_oasis(url):\n",
    "    response = requests.get(url)\n",
    "    response.raise_for_status() # raise an exception for errors\n",
    "    \n",
    "    return response\n",
    "    \n",
    "    "
   ]
  },
  {
   "cell_type": "code",
   "execution_count": 13,
   "id": "1ea097ae",
   "metadata": {},
   "outputs": [
    {
     "ename": "HTTPError",
     "evalue": "404 Client Error: Not Found for url: http://oasis.caiso.com/mrtu-oasis/SingleZip?queryname=SLD_FCST&startdate=20230101&enddate=20230131&market_run_id=DAM&resultformat=6",
     "output_type": "error",
     "traceback": [
      "\u001b[1;31m---------------------------------------------------------------------------\u001b[0m",
      "\u001b[1;31mHTTPError\u001b[0m                                 Traceback (most recent call last)",
      "Cell \u001b[1;32mIn[13], line 1\u001b[0m\n\u001b[1;32m----> 1\u001b[0m \u001b[43mfetch_data_from_oasis\u001b[49m\u001b[43m(\u001b[49m\u001b[43mgenerate_oasis_url\u001b[49m\u001b[43m(\u001b[49m\u001b[43mquery_name\u001b[49m\u001b[38;5;241;43m=\u001b[39;49m\u001b[38;5;124;43m\"\u001b[39;49m\u001b[38;5;124;43mSLD_FCST\u001b[39;49m\u001b[38;5;124;43m\"\u001b[39;49m\u001b[43m,\u001b[49m\u001b[43m \u001b[49m\u001b[43mstart_date\u001b[49m\u001b[38;5;241;43m=\u001b[39;49m\u001b[38;5;124;43m\"\u001b[39;49m\u001b[38;5;124;43m20230101\u001b[39;49m\u001b[38;5;124;43m\"\u001b[39;49m\u001b[43m,\u001b[49m\u001b[43m \u001b[49m\u001b[43mend_date\u001b[49m\u001b[38;5;241;43m=\u001b[39;49m\u001b[38;5;124;43m\"\u001b[39;49m\u001b[38;5;124;43m20230131\u001b[39;49m\u001b[38;5;124;43m\"\u001b[39;49m\u001b[43m,\u001b[49m\u001b[43m \u001b[49m\u001b[43mmarket_run_id\u001b[49m\u001b[38;5;241;43m=\u001b[39;49m\u001b[38;5;124;43m\"\u001b[39;49m\u001b[38;5;124;43mDAM\u001b[39;49m\u001b[38;5;124;43m\"\u001b[39;49m\u001b[43m,\u001b[49m\u001b[43m \u001b[49m\u001b[43mresult_format\u001b[49m\u001b[38;5;241;43m=\u001b[39;49m\u001b[38;5;241;43m6\u001b[39;49m\u001b[43m)\u001b[49m\u001b[43m)\u001b[49m\n",
      "Cell \u001b[1;32mIn[12], line 3\u001b[0m, in \u001b[0;36mfetch_data_from_oasis\u001b[1;34m(url)\u001b[0m\n\u001b[0;32m      1\u001b[0m \u001b[38;5;28;01mdef\u001b[39;00m \u001b[38;5;21mfetch_data_from_oasis\u001b[39m(url):\n\u001b[0;32m      2\u001b[0m     response \u001b[38;5;241m=\u001b[39m requests\u001b[38;5;241m.\u001b[39mget(url)\n\u001b[1;32m----> 3\u001b[0m     \u001b[43mresponse\u001b[49m\u001b[38;5;241;43m.\u001b[39;49m\u001b[43mraise_for_status\u001b[49m\u001b[43m(\u001b[49m\u001b[43m)\u001b[49m \u001b[38;5;66;03m# raise an exception for errors\u001b[39;00m\n\u001b[0;32m      5\u001b[0m     \u001b[38;5;28;01mreturn\u001b[39;00m response\n",
      "File \u001b[1;32m~\\anaconda3\\lib\\site-packages\\requests\\models.py:1021\u001b[0m, in \u001b[0;36mResponse.raise_for_status\u001b[1;34m(self)\u001b[0m\n\u001b[0;32m   1016\u001b[0m     http_error_msg \u001b[38;5;241m=\u001b[39m (\n\u001b[0;32m   1017\u001b[0m         \u001b[38;5;124mf\u001b[39m\u001b[38;5;124m\"\u001b[39m\u001b[38;5;132;01m{\u001b[39;00m\u001b[38;5;28mself\u001b[39m\u001b[38;5;241m.\u001b[39mstatus_code\u001b[38;5;132;01m}\u001b[39;00m\u001b[38;5;124m Server Error: \u001b[39m\u001b[38;5;132;01m{\u001b[39;00mreason\u001b[38;5;132;01m}\u001b[39;00m\u001b[38;5;124m for url: \u001b[39m\u001b[38;5;132;01m{\u001b[39;00m\u001b[38;5;28mself\u001b[39m\u001b[38;5;241m.\u001b[39murl\u001b[38;5;132;01m}\u001b[39;00m\u001b[38;5;124m\"\u001b[39m\n\u001b[0;32m   1018\u001b[0m     )\n\u001b[0;32m   1020\u001b[0m \u001b[38;5;28;01mif\u001b[39;00m http_error_msg:\n\u001b[1;32m-> 1021\u001b[0m     \u001b[38;5;28;01mraise\u001b[39;00m HTTPError(http_error_msg, response\u001b[38;5;241m=\u001b[39m\u001b[38;5;28mself\u001b[39m)\n",
      "\u001b[1;31mHTTPError\u001b[0m: 404 Client Error: Not Found for url: http://oasis.caiso.com/mrtu-oasis/SingleZip?queryname=SLD_FCST&startdate=20230101&enddate=20230131&market_run_id=DAM&resultformat=6"
     ]
    }
   ],
   "source": [
    "fetch_data_from_oasis(generate_oasis_url(query_name=\"SLD_FCST\", start_date=\"20230101\", end_date=\"20230131\", market_run_id=\"DAM\", result_format=6))"
   ]
  },
  {
   "cell_type": "code",
   "execution_count": 14,
   "id": "2c1f1842",
   "metadata": {},
   "outputs": [
    {
     "ename": "NameError",
     "evalue": "name 'response' is not defined",
     "output_type": "error",
     "traceback": [
      "\u001b[1;31m---------------------------------------------------------------------------\u001b[0m",
      "\u001b[1;31mNameError\u001b[0m                                 Traceback (most recent call last)",
      "Cell \u001b[1;32mIn[14], line 1\u001b[0m\n\u001b[1;32m----> 1\u001b[0m \u001b[38;5;28mprint\u001b[39m(\u001b[43mresponse\u001b[49m\u001b[38;5;241m.\u001b[39mtext)\n",
      "\u001b[1;31mNameError\u001b[0m: name 'response' is not defined"
     ]
    }
   ],
   "source": [
    "print(response.text)"
   ]
  },
  {
   "cell_type": "code",
   "execution_count": 9,
   "id": "e3608389",
   "metadata": {},
   "outputs": [
    {
     "data": {
      "text/html": [
       "<div>\n",
       "<style scoped>\n",
       "    .dataframe tbody tr th:only-of-type {\n",
       "        vertical-align: middle;\n",
       "    }\n",
       "\n",
       "    .dataframe tbody tr th {\n",
       "        vertical-align: top;\n",
       "    }\n",
       "\n",
       "    .dataframe thead th {\n",
       "        text-align: right;\n",
       "    }\n",
       "</style>\n",
       "<table border=\"1\" class=\"dataframe\">\n",
       "  <thead>\n",
       "    <tr style=\"text-align: right;\">\n",
       "      <th></th>\n",
       "      <th>INTERVALSTARTTIME_GMT</th>\n",
       "      <th>INTERVALENDTIME_GMT</th>\n",
       "      <th>OPR_DT</th>\n",
       "      <th>OPR_HR</th>\n",
       "      <th>OPR_INTERVAL</th>\n",
       "      <th>NODE_ID_XML</th>\n",
       "      <th>NODE_ID</th>\n",
       "      <th>NODE</th>\n",
       "      <th>MARKET_RUN_ID</th>\n",
       "      <th>LMP_TYPE</th>\n",
       "      <th>XML_DATA_ITEM</th>\n",
       "      <th>PNODE_RESMRID</th>\n",
       "      <th>GRP_TYPE</th>\n",
       "      <th>POS</th>\n",
       "      <th>MW</th>\n",
       "      <th>GROUP</th>\n",
       "    </tr>\n",
       "  </thead>\n",
       "  <tbody>\n",
       "    <tr>\n",
       "      <th>0</th>\n",
       "      <td>2021-01-01T08:00:00-00:00</td>\n",
       "      <td>2021-01-01T09:00:00-00:00</td>\n",
       "      <td>2021-01-01</td>\n",
       "      <td>1</td>\n",
       "      <td>0</td>\n",
       "      <td>CAPTJACK_5_N003</td>\n",
       "      <td>CAPTJACK_5_N003</td>\n",
       "      <td>CAPTJACK_5_N003</td>\n",
       "      <td>DAM</td>\n",
       "      <td>LMP</td>\n",
       "      <td>LMP_PRC</td>\n",
       "      <td>CAPTJACK_5_N003</td>\n",
       "      <td>ALL</td>\n",
       "      <td>1</td>\n",
       "      <td>33.32310</td>\n",
       "      <td>1</td>\n",
       "    </tr>\n",
       "    <tr>\n",
       "      <th>1</th>\n",
       "      <td>2021-01-01T08:00:00-00:00</td>\n",
       "      <td>2021-01-01T09:00:00-00:00</td>\n",
       "      <td>2021-01-01</td>\n",
       "      <td>1</td>\n",
       "      <td>0</td>\n",
       "      <td>CAPTJACK_5_N003</td>\n",
       "      <td>CAPTJACK_5_N003</td>\n",
       "      <td>CAPTJACK_5_N003</td>\n",
       "      <td>DAM</td>\n",
       "      <td>MCC</td>\n",
       "      <td>LMP_CONG_PRC</td>\n",
       "      <td>CAPTJACK_5_N003</td>\n",
       "      <td>ALL</td>\n",
       "      <td>1</td>\n",
       "      <td>0.00000</td>\n",
       "      <td>2</td>\n",
       "    </tr>\n",
       "    <tr>\n",
       "      <th>2</th>\n",
       "      <td>2021-01-01T08:00:00-00:00</td>\n",
       "      <td>2021-01-01T09:00:00-00:00</td>\n",
       "      <td>2021-01-01</td>\n",
       "      <td>1</td>\n",
       "      <td>0</td>\n",
       "      <td>CAPTJACK_5_N003</td>\n",
       "      <td>CAPTJACK_5_N003</td>\n",
       "      <td>CAPTJACK_5_N003</td>\n",
       "      <td>DAM</td>\n",
       "      <td>MCE</td>\n",
       "      <td>LMP_ENE_PRC</td>\n",
       "      <td>CAPTJACK_5_N003</td>\n",
       "      <td>ALL</td>\n",
       "      <td>1</td>\n",
       "      <td>34.68627</td>\n",
       "      <td>3</td>\n",
       "    </tr>\n",
       "    <tr>\n",
       "      <th>3</th>\n",
       "      <td>2021-01-01T08:00:00-00:00</td>\n",
       "      <td>2021-01-01T09:00:00-00:00</td>\n",
       "      <td>2021-01-01</td>\n",
       "      <td>1</td>\n",
       "      <td>0</td>\n",
       "      <td>CAPTJACK_5_N003</td>\n",
       "      <td>CAPTJACK_5_N003</td>\n",
       "      <td>CAPTJACK_5_N003</td>\n",
       "      <td>DAM</td>\n",
       "      <td>MCL</td>\n",
       "      <td>LMP_LOSS_PRC</td>\n",
       "      <td>CAPTJACK_5_N003</td>\n",
       "      <td>ALL</td>\n",
       "      <td>1</td>\n",
       "      <td>-1.36317</td>\n",
       "      <td>4</td>\n",
       "    </tr>\n",
       "    <tr>\n",
       "      <th>4</th>\n",
       "      <td>2021-01-01T09:00:00-00:00</td>\n",
       "      <td>2021-01-01T10:00:00-00:00</td>\n",
       "      <td>2021-01-01</td>\n",
       "      <td>2</td>\n",
       "      <td>0</td>\n",
       "      <td>CAPTJACK_5_N003</td>\n",
       "      <td>CAPTJACK_5_N003</td>\n",
       "      <td>CAPTJACK_5_N003</td>\n",
       "      <td>DAM</td>\n",
       "      <td>LMP</td>\n",
       "      <td>LMP_PRC</td>\n",
       "      <td>CAPTJACK_5_N003</td>\n",
       "      <td>ALL</td>\n",
       "      <td>1</td>\n",
       "      <td>31.51635</td>\n",
       "      <td>1</td>\n",
       "    </tr>\n",
       "  </tbody>\n",
       "</table>\n",
       "</div>"
      ],
      "text/plain": [
       "       INTERVALSTARTTIME_GMT        INTERVALENDTIME_GMT     OPR_DT  OPR_HR  \\\n",
       "0  2021-01-01T08:00:00-00:00  2021-01-01T09:00:00-00:00 2021-01-01       1   \n",
       "1  2021-01-01T08:00:00-00:00  2021-01-01T09:00:00-00:00 2021-01-01       1   \n",
       "2  2021-01-01T08:00:00-00:00  2021-01-01T09:00:00-00:00 2021-01-01       1   \n",
       "3  2021-01-01T08:00:00-00:00  2021-01-01T09:00:00-00:00 2021-01-01       1   \n",
       "4  2021-01-01T09:00:00-00:00  2021-01-01T10:00:00-00:00 2021-01-01       2   \n",
       "\n",
       "   OPR_INTERVAL      NODE_ID_XML          NODE_ID             NODE  \\\n",
       "0             0  CAPTJACK_5_N003  CAPTJACK_5_N003  CAPTJACK_5_N003   \n",
       "1             0  CAPTJACK_5_N003  CAPTJACK_5_N003  CAPTJACK_5_N003   \n",
       "2             0  CAPTJACK_5_N003  CAPTJACK_5_N003  CAPTJACK_5_N003   \n",
       "3             0  CAPTJACK_5_N003  CAPTJACK_5_N003  CAPTJACK_5_N003   \n",
       "4             0  CAPTJACK_5_N003  CAPTJACK_5_N003  CAPTJACK_5_N003   \n",
       "\n",
       "  MARKET_RUN_ID LMP_TYPE XML_DATA_ITEM    PNODE_RESMRID GRP_TYPE  POS  \\\n",
       "0           DAM      LMP       LMP_PRC  CAPTJACK_5_N003      ALL    1   \n",
       "1           DAM      MCC  LMP_CONG_PRC  CAPTJACK_5_N003      ALL    1   \n",
       "2           DAM      MCE   LMP_ENE_PRC  CAPTJACK_5_N003      ALL    1   \n",
       "3           DAM      MCL  LMP_LOSS_PRC  CAPTJACK_5_N003      ALL    1   \n",
       "4           DAM      LMP       LMP_PRC  CAPTJACK_5_N003      ALL    1   \n",
       "\n",
       "         MW  GROUP  \n",
       "0  33.32310      1  \n",
       "1   0.00000      2  \n",
       "2  34.68627      3  \n",
       "3  -1.36317      4  \n",
       "4  31.51635      1  "
      ]
     },
     "execution_count": 9,
     "metadata": {},
     "output_type": "execute_result"
    }
   ],
   "source": [
    "import pycaiso\n",
    "\n",
    "from pycaiso.oasis import Node\n",
    "from datetime import datetime\n",
    "import pandas as pd\n",
    "\n",
    "# select pnode\n",
    "\n",
    "cj = Node(\"CAPTJACK_5_N003\")\n",
    "\n",
    "# create dataframe with LMPS from arbitrary period (30 day maximum). \n",
    "\n",
    "cj_lmps = cj.get_lmps(datetime(2021, 1, 1), datetime(2021, 1, 2))\n",
    "\n",
    "cj_lmps.head()"
   ]
  },
  {
   "cell_type": "code",
   "execution_count": 11,
   "id": "e8f4afaf",
   "metadata": {},
   "outputs": [
    {
     "data": {
      "text/plain": [
       "(96, 16)"
      ]
     },
     "execution_count": 11,
     "metadata": {},
     "output_type": "execute_result"
    }
   ],
   "source": [
    "cj_lmps.shape"
   ]
  },
  {
   "cell_type": "code",
   "execution_count": null,
   "id": "9b447b1e",
   "metadata": {},
   "outputs": [],
   "source": []
  },
  {
   "cell_type": "code",
   "execution_count": null,
   "id": "502b0692",
   "metadata": {},
   "outputs": [],
   "source": []
  },
  {
   "cell_type": "code",
   "execution_count": null,
   "id": "1c6be272",
   "metadata": {},
   "outputs": [],
   "source": []
  },
  {
   "cell_type": "code",
   "execution_count": null,
   "id": "41fd8d23",
   "metadata": {},
   "outputs": [],
   "source": []
  }
 ],
 "metadata": {
  "kernelspec": {
   "display_name": "Python 3 (ipykernel)",
   "language": "python",
   "name": "python3"
  },
  "language_info": {
   "codemirror_mode": {
    "name": "ipython",
    "version": 3
   },
   "file_extension": ".py",
   "mimetype": "text/x-python",
   "name": "python",
   "nbconvert_exporter": "python",
   "pygments_lexer": "ipython3",
   "version": "3.10.9"
  }
 },
 "nbformat": 4,
 "nbformat_minor": 5
}
