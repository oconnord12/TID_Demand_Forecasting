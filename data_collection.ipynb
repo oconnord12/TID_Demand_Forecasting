{
 "cells": [
  {
   "cell_type": "code",
   "execution_count": 1,
   "metadata": {},
   "outputs": [],
   "source": [
    "import pandas as pd\n",
    "import matplotlib.pyplot as plt\n",
    "from GatherOasisData import GatherOASISData\n",
    "from GatherWeatherConditions import GatherWeatherConditons\n",
    "import os"
   ]
  },
  {
   "cell_type": "code",
   "execution_count": 2,
   "metadata": {},
   "outputs": [
    {
     "name": "stdout",
     "output_type": "stream",
     "text": [
      "Downloaded http://oasis.caiso.com/oasisapi/SingleZip?queryname=SLD_FCST&market_run_id=ACTUAL&startdatetime=20240429T00:00-0800&enddatetime=20240430T00:00-0800&version=1\n",
      "Extracting data from 20240429_20240430_SLD_FCST_ACTUAL\\20240429_20240430_SLD_FCST_ACTUAL_20240618_16_20_59_v1.xml\n",
      "Original UTC time: 2024-04-29T19:00:00-00:00 => Converted PST time: 2024-04-29 12:00:00-07:00\n",
      "Original UTC time: 2024-04-30T00:00:00-00:00 => Converted PST time: 2024-04-29 17:00:00-07:00\n",
      "Original UTC time: 2024-04-30T02:00:00-00:00 => Converted PST time: 2024-04-29 19:00:00-07:00\n",
      "Original UTC time: 2024-04-30T06:00:00-00:00 => Converted PST time: 2024-04-29 23:00:00-07:00\n",
      "Original UTC time: 2024-04-29T17:00:00-00:00 => Converted PST time: 2024-04-29 10:00:00-07:00\n",
      "Original UTC time: 2024-04-29T18:00:00-00:00 => Converted PST time: 2024-04-29 11:00:00-07:00\n",
      "Original UTC time: 2024-04-29T20:00:00-00:00 => Converted PST time: 2024-04-29 13:00:00-07:00\n",
      "Original UTC time: 2024-04-29T21:00:00-00:00 => Converted PST time: 2024-04-29 14:00:00-07:00\n",
      "Original UTC time: 2024-04-30T01:00:00-00:00 => Converted PST time: 2024-04-29 18:00:00-07:00\n",
      "Original UTC time: 2024-04-29T09:00:00-00:00 => Converted PST time: 2024-04-29 02:00:00-07:00\n",
      "Original UTC time: 2024-04-29T10:00:00-00:00 => Converted PST time: 2024-04-29 03:00:00-07:00\n",
      "Original UTC time: 2024-04-30T04:00:00-00:00 => Converted PST time: 2024-04-29 21:00:00-07:00\n",
      "Original UTC time: 2024-04-29T16:00:00-00:00 => Converted PST time: 2024-04-29 09:00:00-07:00\n",
      "Original UTC time: 2024-04-29T12:00:00-00:00 => Converted PST time: 2024-04-29 05:00:00-07:00\n",
      "Original UTC time: 2024-04-29T15:00:00-00:00 => Converted PST time: 2024-04-29 08:00:00-07:00\n",
      "Original UTC time: 2024-04-29T08:00:00-00:00 => Converted PST time: 2024-04-29 01:00:00-07:00\n",
      "Original UTC time: 2024-04-29T11:00:00-00:00 => Converted PST time: 2024-04-29 04:00:00-07:00\n",
      "Original UTC time: 2024-04-29T14:00:00-00:00 => Converted PST time: 2024-04-29 07:00:00-07:00\n",
      "Original UTC time: 2024-04-29T22:00:00-00:00 => Converted PST time: 2024-04-29 15:00:00-07:00\n",
      "Original UTC time: 2024-04-29T23:00:00-00:00 => Converted PST time: 2024-04-29 16:00:00-07:00\n",
      "Original UTC time: 2024-04-30T03:00:00-00:00 => Converted PST time: 2024-04-29 20:00:00-07:00\n",
      "Original UTC time: 2024-04-30T05:00:00-00:00 => Converted PST time: 2024-04-29 22:00:00-07:00\n",
      "Original UTC time: 2024-04-29T13:00:00-00:00 => Converted PST time: 2024-04-29 06:00:00-07:00\n",
      "Original UTC time: 2024-04-30T07:00:00-00:00 => Converted PST time: 2024-04-30 00:00:00-07:00\n",
      "Extracted TIDC data from 20240429_20240430_SLD_FCST_ACTUAL\\20240429_20240430_SLD_FCST_ACTUAL_20240618_16_20_59_v1.xml\n",
      "Extracting data from 20240429_20240430_SLD_FCST_ACTUAL\\20240429_20240430_SLD_FCST_ACTUAL_20240618_16_22_02_v1.xml\n",
      "Original UTC time: 2024-04-29T19:00:00-00:00 => Converted PST time: 2024-04-29 12:00:00-07:00\n",
      "Original UTC time: 2024-04-30T00:00:00-00:00 => Converted PST time: 2024-04-29 17:00:00-07:00\n",
      "Original UTC time: 2024-04-30T02:00:00-00:00 => Converted PST time: 2024-04-29 19:00:00-07:00\n",
      "Original UTC time: 2024-04-30T06:00:00-00:00 => Converted PST time: 2024-04-29 23:00:00-07:00\n",
      "Original UTC time: 2024-04-29T17:00:00-00:00 => Converted PST time: 2024-04-29 10:00:00-07:00\n",
      "Original UTC time: 2024-04-29T18:00:00-00:00 => Converted PST time: 2024-04-29 11:00:00-07:00\n",
      "Original UTC time: 2024-04-29T20:00:00-00:00 => Converted PST time: 2024-04-29 13:00:00-07:00\n",
      "Original UTC time: 2024-04-29T21:00:00-00:00 => Converted PST time: 2024-04-29 14:00:00-07:00\n",
      "Original UTC time: 2024-04-30T01:00:00-00:00 => Converted PST time: 2024-04-29 18:00:00-07:00\n",
      "Original UTC time: 2024-04-29T09:00:00-00:00 => Converted PST time: 2024-04-29 02:00:00-07:00\n",
      "Original UTC time: 2024-04-29T10:00:00-00:00 => Converted PST time: 2024-04-29 03:00:00-07:00\n",
      "Original UTC time: 2024-04-30T04:00:00-00:00 => Converted PST time: 2024-04-29 21:00:00-07:00\n",
      "Original UTC time: 2024-04-29T16:00:00-00:00 => Converted PST time: 2024-04-29 09:00:00-07:00\n",
      "Original UTC time: 2024-04-29T12:00:00-00:00 => Converted PST time: 2024-04-29 05:00:00-07:00\n",
      "Original UTC time: 2024-04-29T15:00:00-00:00 => Converted PST time: 2024-04-29 08:00:00-07:00\n",
      "Original UTC time: 2024-04-29T08:00:00-00:00 => Converted PST time: 2024-04-29 01:00:00-07:00\n",
      "Original UTC time: 2024-04-29T11:00:00-00:00 => Converted PST time: 2024-04-29 04:00:00-07:00\n",
      "Original UTC time: 2024-04-29T14:00:00-00:00 => Converted PST time: 2024-04-29 07:00:00-07:00\n",
      "Original UTC time: 2024-04-29T22:00:00-00:00 => Converted PST time: 2024-04-29 15:00:00-07:00\n",
      "Original UTC time: 2024-04-29T23:00:00-00:00 => Converted PST time: 2024-04-29 16:00:00-07:00\n",
      "Original UTC time: 2024-04-30T03:00:00-00:00 => Converted PST time: 2024-04-29 20:00:00-07:00\n",
      "Original UTC time: 2024-04-30T05:00:00-00:00 => Converted PST time: 2024-04-29 22:00:00-07:00\n",
      "Original UTC time: 2024-04-29T13:00:00-00:00 => Converted PST time: 2024-04-29 06:00:00-07:00\n",
      "Original UTC time: 2024-04-30T07:00:00-00:00 => Converted PST time: 2024-04-30 00:00:00-07:00\n",
      "Extracted TIDC data from 20240429_20240430_SLD_FCST_ACTUAL\\20240429_20240430_SLD_FCST_ACTUAL_20240618_16_22_02_v1.xml\n",
      "ACTUAL df complete.\n",
      "Downloaded http://oasis.caiso.com/oasisapi/SingleZip?queryname=SLD_FCST&market_run_id=DAM&startdatetime=20240429T00:00-0800&enddatetime=20240430T00:00-0800&version=1\n",
      "Extracting data from 20240429_20240430_SLD_FCST_DAM\\20240429_20240430_SLD_FCST_DAM_20240618_16_21_05_v1.xml\n",
      "Original UTC time: 2024-04-29T09:00:00-00:00 => Converted PST time: 2024-04-29 02:00:00-07:00\n",
      "Original UTC time: 2024-04-29T19:00:00-00:00 => Converted PST time: 2024-04-29 12:00:00-07:00\n",
      "Original UTC time: 2024-04-29T18:00:00-00:00 => Converted PST time: 2024-04-29 11:00:00-07:00\n",
      "Original UTC time: 2024-04-29T23:00:00-00:00 => Converted PST time: 2024-04-29 16:00:00-07:00\n",
      "Original UTC time: 2024-04-29T17:00:00-00:00 => Converted PST time: 2024-04-29 10:00:00-07:00\n",
      "Original UTC time: 2024-04-29T13:00:00-00:00 => Converted PST time: 2024-04-29 06:00:00-07:00\n",
      "Original UTC time: 2024-04-29T20:00:00-00:00 => Converted PST time: 2024-04-29 13:00:00-07:00\n",
      "Original UTC time: 2024-04-29T14:00:00-00:00 => Converted PST time: 2024-04-29 07:00:00-07:00\n",
      "Original UTC time: 2024-04-30T03:00:00-00:00 => Converted PST time: 2024-04-29 20:00:00-07:00\n",
      "Original UTC time: 2024-04-30T02:00:00-00:00 => Converted PST time: 2024-04-29 19:00:00-07:00\n",
      "Original UTC time: 2024-04-29T12:00:00-00:00 => Converted PST time: 2024-04-29 05:00:00-07:00\n",
      "Original UTC time: 2024-04-29T10:00:00-00:00 => Converted PST time: 2024-04-29 03:00:00-07:00\n",
      "Original UTC time: 2024-04-30T00:00:00-00:00 => Converted PST time: 2024-04-29 17:00:00-07:00\n",
      "Original UTC time: 2024-04-29T15:00:00-00:00 => Converted PST time: 2024-04-29 08:00:00-07:00\n",
      "Original UTC time: 2024-04-30T06:00:00-00:00 => Converted PST time: 2024-04-29 23:00:00-07:00\n",
      "Original UTC time: 2024-04-30T01:00:00-00:00 => Converted PST time: 2024-04-29 18:00:00-07:00\n",
      "Original UTC time: 2024-04-29T16:00:00-00:00 => Converted PST time: 2024-04-29 09:00:00-07:00\n",
      "Original UTC time: 2024-04-29T11:00:00-00:00 => Converted PST time: 2024-04-29 04:00:00-07:00\n",
      "Original UTC time: 2024-04-29T08:00:00-00:00 => Converted PST time: 2024-04-29 01:00:00-07:00\n",
      "Original UTC time: 2024-04-30T04:00:00-00:00 => Converted PST time: 2024-04-29 21:00:00-07:00\n",
      "Original UTC time: 2024-04-29T21:00:00-00:00 => Converted PST time: 2024-04-29 14:00:00-07:00\n",
      "Original UTC time: 2024-04-30T05:00:00-00:00 => Converted PST time: 2024-04-29 22:00:00-07:00\n",
      "Original UTC time: 2024-04-29T22:00:00-00:00 => Converted PST time: 2024-04-29 15:00:00-07:00\n",
      "Original UTC time: 2024-04-30T07:00:00-00:00 => Converted PST time: 2024-04-30 00:00:00-07:00\n",
      "Extracted TIDC data from 20240429_20240430_SLD_FCST_DAM\\20240429_20240430_SLD_FCST_DAM_20240618_16_21_05_v1.xml\n",
      "Extracting data from 20240429_20240430_SLD_FCST_DAM\\20240429_20240430_SLD_FCST_DAM_20240618_16_22_08_v1.xml\n",
      "Original UTC time: 2024-04-29T09:00:00-00:00 => Converted PST time: 2024-04-29 02:00:00-07:00\n",
      "Original UTC time: 2024-04-29T19:00:00-00:00 => Converted PST time: 2024-04-29 12:00:00-07:00\n",
      "Original UTC time: 2024-04-29T18:00:00-00:00 => Converted PST time: 2024-04-29 11:00:00-07:00\n",
      "Original UTC time: 2024-04-29T23:00:00-00:00 => Converted PST time: 2024-04-29 16:00:00-07:00\n",
      "Original UTC time: 2024-04-29T17:00:00-00:00 => Converted PST time: 2024-04-29 10:00:00-07:00\n",
      "Original UTC time: 2024-04-29T13:00:00-00:00 => Converted PST time: 2024-04-29 06:00:00-07:00\n",
      "Original UTC time: 2024-04-29T20:00:00-00:00 => Converted PST time: 2024-04-29 13:00:00-07:00\n",
      "Original UTC time: 2024-04-29T14:00:00-00:00 => Converted PST time: 2024-04-29 07:00:00-07:00\n",
      "Original UTC time: 2024-04-30T03:00:00-00:00 => Converted PST time: 2024-04-29 20:00:00-07:00\n",
      "Original UTC time: 2024-04-30T02:00:00-00:00 => Converted PST time: 2024-04-29 19:00:00-07:00\n",
      "Original UTC time: 2024-04-29T12:00:00-00:00 => Converted PST time: 2024-04-29 05:00:00-07:00\n",
      "Original UTC time: 2024-04-29T10:00:00-00:00 => Converted PST time: 2024-04-29 03:00:00-07:00\n",
      "Original UTC time: 2024-04-30T00:00:00-00:00 => Converted PST time: 2024-04-29 17:00:00-07:00\n",
      "Original UTC time: 2024-04-29T15:00:00-00:00 => Converted PST time: 2024-04-29 08:00:00-07:00\n",
      "Original UTC time: 2024-04-30T06:00:00-00:00 => Converted PST time: 2024-04-29 23:00:00-07:00\n",
      "Original UTC time: 2024-04-30T01:00:00-00:00 => Converted PST time: 2024-04-29 18:00:00-07:00\n",
      "Original UTC time: 2024-04-29T16:00:00-00:00 => Converted PST time: 2024-04-29 09:00:00-07:00\n",
      "Original UTC time: 2024-04-29T11:00:00-00:00 => Converted PST time: 2024-04-29 04:00:00-07:00\n",
      "Original UTC time: 2024-04-29T08:00:00-00:00 => Converted PST time: 2024-04-29 01:00:00-07:00\n",
      "Original UTC time: 2024-04-30T04:00:00-00:00 => Converted PST time: 2024-04-29 21:00:00-07:00\n",
      "Original UTC time: 2024-04-29T21:00:00-00:00 => Converted PST time: 2024-04-29 14:00:00-07:00\n",
      "Original UTC time: 2024-04-30T05:00:00-00:00 => Converted PST time: 2024-04-29 22:00:00-07:00\n",
      "Original UTC time: 2024-04-29T22:00:00-00:00 => Converted PST time: 2024-04-29 15:00:00-07:00\n",
      "Original UTC time: 2024-04-30T07:00:00-00:00 => Converted PST time: 2024-04-30 00:00:00-07:00\n",
      "Extracted TIDC data from 20240429_20240430_SLD_FCST_DAM\\20240429_20240430_SLD_FCST_DAM_20240618_16_22_08_v1.xml\n",
      "DAM df complete.\n",
      "Downloaded http://oasis.caiso.com/oasisapi/SingleZip?queryname=SLD_FCST&market_run_id=2DA&startdatetime=20240429T00:00-0800&enddatetime=20240430T00:00-0800&version=1\n",
      "Extracting data from 20240429_20240430_SLD_FCST_2DA\\20240429_20240430_SLD_FCST_2DA_20240618_16_21_12_v1.xml\n",
      "Original UTC time: 2024-04-30T03:00:00-00:00 => Converted PST time: 2024-04-29 20:00:00-07:00\n",
      "Original UTC time: 2024-04-29T12:00:00-00:00 => Converted PST time: 2024-04-29 05:00:00-07:00\n",
      "Original UTC time: 2024-04-29T22:00:00-00:00 => Converted PST time: 2024-04-29 15:00:00-07:00\n",
      "Original UTC time: 2024-04-29T23:00:00-00:00 => Converted PST time: 2024-04-29 16:00:00-07:00\n",
      "Original UTC time: 2024-04-29T17:00:00-00:00 => Converted PST time: 2024-04-29 10:00:00-07:00\n",
      "Original UTC time: 2024-04-29T08:00:00-00:00 => Converted PST time: 2024-04-29 01:00:00-07:00\n",
      "Original UTC time: 2024-04-30T04:00:00-00:00 => Converted PST time: 2024-04-29 21:00:00-07:00\n",
      "Original UTC time: 2024-04-29T15:00:00-00:00 => Converted PST time: 2024-04-29 08:00:00-07:00\n",
      "Original UTC time: 2024-04-29T18:00:00-00:00 => Converted PST time: 2024-04-29 11:00:00-07:00\n",
      "Original UTC time: 2024-04-29T14:00:00-00:00 => Converted PST time: 2024-04-29 07:00:00-07:00\n",
      "Original UTC time: 2024-04-29T13:00:00-00:00 => Converted PST time: 2024-04-29 06:00:00-07:00\n",
      "Original UTC time: 2024-04-29T10:00:00-00:00 => Converted PST time: 2024-04-29 03:00:00-07:00\n",
      "Original UTC time: 2024-04-30T02:00:00-00:00 => Converted PST time: 2024-04-29 19:00:00-07:00\n",
      "Original UTC time: 2024-04-29T11:00:00-00:00 => Converted PST time: 2024-04-29 04:00:00-07:00\n",
      "Original UTC time: 2024-04-30T05:00:00-00:00 => Converted PST time: 2024-04-29 22:00:00-07:00\n",
      "Original UTC time: 2024-04-30T00:00:00-00:00 => Converted PST time: 2024-04-29 17:00:00-07:00\n",
      "Original UTC time: 2024-04-29T19:00:00-00:00 => Converted PST time: 2024-04-29 12:00:00-07:00\n",
      "Original UTC time: 2024-04-29T16:00:00-00:00 => Converted PST time: 2024-04-29 09:00:00-07:00\n",
      "Original UTC time: 2024-04-29T21:00:00-00:00 => Converted PST time: 2024-04-29 14:00:00-07:00\n",
      "Original UTC time: 2024-04-29T09:00:00-00:00 => Converted PST time: 2024-04-29 02:00:00-07:00\n",
      "Original UTC time: 2024-04-29T20:00:00-00:00 => Converted PST time: 2024-04-29 13:00:00-07:00\n",
      "Original UTC time: 2024-04-30T06:00:00-00:00 => Converted PST time: 2024-04-29 23:00:00-07:00\n",
      "Original UTC time: 2024-04-30T01:00:00-00:00 => Converted PST time: 2024-04-29 18:00:00-07:00\n",
      "Original UTC time: 2024-04-30T07:00:00-00:00 => Converted PST time: 2024-04-30 00:00:00-07:00\n",
      "Extracted TIDC data from 20240429_20240430_SLD_FCST_2DA\\20240429_20240430_SLD_FCST_2DA_20240618_16_21_12_v1.xml\n",
      "Extracting data from 20240429_20240430_SLD_FCST_2DA\\20240429_20240430_SLD_FCST_2DA_20240618_16_22_15_v1.xml\n",
      "Original UTC time: 2024-04-30T03:00:00-00:00 => Converted PST time: 2024-04-29 20:00:00-07:00\n",
      "Original UTC time: 2024-04-29T12:00:00-00:00 => Converted PST time: 2024-04-29 05:00:00-07:00\n",
      "Original UTC time: 2024-04-29T22:00:00-00:00 => Converted PST time: 2024-04-29 15:00:00-07:00\n",
      "Original UTC time: 2024-04-29T23:00:00-00:00 => Converted PST time: 2024-04-29 16:00:00-07:00\n",
      "Original UTC time: 2024-04-29T17:00:00-00:00 => Converted PST time: 2024-04-29 10:00:00-07:00\n",
      "Original UTC time: 2024-04-29T08:00:00-00:00 => Converted PST time: 2024-04-29 01:00:00-07:00\n",
      "Original UTC time: 2024-04-30T04:00:00-00:00 => Converted PST time: 2024-04-29 21:00:00-07:00\n",
      "Original UTC time: 2024-04-29T15:00:00-00:00 => Converted PST time: 2024-04-29 08:00:00-07:00\n",
      "Original UTC time: 2024-04-29T18:00:00-00:00 => Converted PST time: 2024-04-29 11:00:00-07:00\n",
      "Original UTC time: 2024-04-29T14:00:00-00:00 => Converted PST time: 2024-04-29 07:00:00-07:00\n",
      "Original UTC time: 2024-04-29T13:00:00-00:00 => Converted PST time: 2024-04-29 06:00:00-07:00\n",
      "Original UTC time: 2024-04-29T10:00:00-00:00 => Converted PST time: 2024-04-29 03:00:00-07:00\n",
      "Original UTC time: 2024-04-30T02:00:00-00:00 => Converted PST time: 2024-04-29 19:00:00-07:00\n",
      "Original UTC time: 2024-04-29T11:00:00-00:00 => Converted PST time: 2024-04-29 04:00:00-07:00\n",
      "Original UTC time: 2024-04-30T05:00:00-00:00 => Converted PST time: 2024-04-29 22:00:00-07:00\n",
      "Original UTC time: 2024-04-30T00:00:00-00:00 => Converted PST time: 2024-04-29 17:00:00-07:00\n",
      "Original UTC time: 2024-04-29T19:00:00-00:00 => Converted PST time: 2024-04-29 12:00:00-07:00\n",
      "Original UTC time: 2024-04-29T16:00:00-00:00 => Converted PST time: 2024-04-29 09:00:00-07:00\n",
      "Original UTC time: 2024-04-29T21:00:00-00:00 => Converted PST time: 2024-04-29 14:00:00-07:00\n",
      "Original UTC time: 2024-04-29T09:00:00-00:00 => Converted PST time: 2024-04-29 02:00:00-07:00\n",
      "Original UTC time: 2024-04-29T20:00:00-00:00 => Converted PST time: 2024-04-29 13:00:00-07:00\n",
      "Original UTC time: 2024-04-30T06:00:00-00:00 => Converted PST time: 2024-04-29 23:00:00-07:00\n",
      "Original UTC time: 2024-04-30T01:00:00-00:00 => Converted PST time: 2024-04-29 18:00:00-07:00\n",
      "Original UTC time: 2024-04-30T07:00:00-00:00 => Converted PST time: 2024-04-30 00:00:00-07:00\n",
      "Extracted TIDC data from 20240429_20240430_SLD_FCST_2DA\\20240429_20240430_SLD_FCST_2DA_20240618_16_22_15_v1.xml\n",
      "2DA df complete.\n"
     ]
    }
   ],
   "source": [
    "# start_date = '20210130'\n",
    "start_date = '20240429'\n",
    "end_date = '20240430'\n",
    "\n",
    "#gather weather conditions\n",
    "weather = GatherWeatherConditons(start_date=start_date, end_date=end_date, time_steps='HOURLY')\n",
    "weather_df = weather.fetch_and_process_data()\n",
    "\n",
    "#reports: actual demand, day ahead market(24 hourly preds), 2-day ahead (48 hourly preds)\n",
    "report_types = ['ACTUAL', 'DAM', '2DA']\n",
    "\n",
    "\n",
    "#store reports in dict\n",
    "reports_dfs = {}\n",
    "\n",
    "#generate reports for each\n",
    "for report in report_types:\n",
    "    OASIS = GatherOASISData(start_date, end_date, 'SLD_FCST', report)\n",
    "    reports_dfs[report + '_df'] = OASIS.process_data()\n",
    "    print(f'{report} df complete.')\n"
   ]
  },
  {
   "cell_type": "code",
   "execution_count": 3,
   "metadata": {},
   "outputs": [
    {
     "data": {
      "text/plain": [
       "Timestamp('2024-04-29 01:00:00-0700', tz='America/Los_Angeles')"
      ]
     },
     "execution_count": 3,
     "metadata": {},
     "output_type": "execute_result"
    }
   ],
   "source": [
    "reports_dfs['2DA_df'].index.min()\n",
    "# type(reports_dfs['2DA_df'].index)"
   ]
  },
  {
   "cell_type": "code",
   "execution_count": 45,
   "metadata": {},
   "outputs": [
    {
     "data": {
      "text/plain": [
       "DatetimeIndex(['2024-04-19 17:00:00', '2024-04-19 18:00:00',\n",
       "               '2024-04-19 19:00:00', '2024-04-19 20:00:00',\n",
       "               '2024-04-19 21:00:00', '2024-04-19 22:00:00',\n",
       "               '2024-04-19 23:00:00', '2024-04-20 00:00:00',\n",
       "               '2024-04-20 01:00:00', '2024-04-20 02:00:00',\n",
       "               ...\n",
       "               '2024-04-29 08:00:00', '2024-04-29 09:00:00',\n",
       "               '2024-04-29 10:00:00', '2024-04-29 11:00:00',\n",
       "               '2024-04-29 12:00:00', '2024-04-29 13:00:00',\n",
       "               '2024-04-29 14:00:00', '2024-04-29 15:00:00',\n",
       "               '2024-04-29 16:00:00', '2024-04-29 17:00:00'],\n",
       "              dtype='datetime64[ns]', name='time', length=241, freq=None)"
      ]
     },
     "execution_count": 45,
     "metadata": {},
     "output_type": "execute_result"
    }
   ],
   "source": [
    "weather_df.index"
   ]
  },
  {
   "cell_type": "code",
   "execution_count": 43,
   "metadata": {},
   "outputs": [],
   "source": [
    "from datetime import datetime\n",
    "import pytz\n",
    "\n",
    "def convert_GMT_PST(gmt_str):\n",
    "    '''\n",
    "    converts GMT to PST\n",
    "    '''\n",
    "    gmt_time = datetime.strptime(gmt_str, \"%Y-%m-%dT%H:%M:%S-00:00\")\n",
    "    \n",
    "    #using pytz to account for DST\n",
    "    pacific = pytz.timezone(\"America/Los_Angeles\")\n",
    "    \n",
    "    #convert\n",
    "    pacific_time = gmt_time.replace(tzinfo=pytz.utc).astimezone(pacific)\n",
    "    \n",
    "    return pacific_time"
   ]
  },
  {
   "cell_type": "code",
   "execution_count": 48,
   "metadata": {},
   "outputs": [
    {
     "name": "stdout",
     "output_type": "stream",
     "text": [
      "2022-04-20 00:00:00-07:00 2022-04-20 00:00:00-07:00\n"
     ]
    },
    {
     "data": {
      "text/plain": [
       "datetime.datetime(2022, 4, 20, 0, 0, tzinfo=<DstTzInfo 'America/Los_Angeles' PDT-1 day, 17:00:00 DST>)"
      ]
     },
     "execution_count": 48,
     "metadata": {},
     "output_type": "execute_result"
    }
   ],
   "source": [
    "import pytz\n",
    "from datetime import datetime\n",
    "pt_str = convert_GMT_PST('2022-04-20T07:00:00-00:00')\n",
    "\n",
    "print(pd.to_datetime(pt_str), pt_str)\n",
    "pt_str"
   ]
  },
  {
   "cell_type": "code",
   "execution_count": 4,
   "metadata": {},
   "outputs": [
    {
     "data": {
      "text/plain": [
       "<Axes: xlabel='TIME'>"
      ]
     },
     "execution_count": 4,
     "metadata": {},
     "output_type": "execute_result"
    },
    {
     "data": {
      "image/png": "[encoded data removed]",
      "text/plain": [
       "<Figure size 640x480 with 1 Axes>"
      ]
     },
     "metadata": {},
     "output_type": "display_data"
    }
   ],
   "source": [
    "reports_dfs['ACTUAL_df'][50:104].plot()"
   ]
  }
 ],
 "metadata": {
  "kernelspec": {
   "display_name": "Python 3",
   "language": "python",
   "name": "python3"
  },
  "language_info": {
   "codemirror_mode": {
    "name": "ipython",
    "version": 3
   },
   "file_extension": ".py",
   "mimetype": "text/x-python",
   "name": "python",
   "nbconvert_exporter": "python",
   "pygments_lexer": "ipython3",
   "version": "3.9.13"
  }
 },
 "nbformat": 4,
 "nbformat_minor": 2
}
